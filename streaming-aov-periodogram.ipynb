{
 "cells": [
  {
   "cell_type": "code",
   "execution_count": 1,
   "metadata": {
    "collapsed": true
   },
   "outputs": [],
   "source": [
    "import numpy as np\n",
    "%matplotlib inline\n",
    "import matplotlib.pylab as plt"
   ]
  },
  {
   "cell_type": "code",
   "execution_count": null,
   "metadata": {
    "collapsed": true
   },
   "outputs": [],
   "source": [
    "\n",
    "\n",
    "t = np.linspace(0.0, 10.0, num=100)\n",
    "Pt = 0.532421\n",
    "x = np.sin(2.0*np.pi*t/Pt)\n",
    "e = np.random.gamma(1, scale=0.2, size=len(x))\n",
    "y = x + np.random.randn(len(x))*e\n",
    "plt.figure()\n",
    "plt.errorbar(t, y, e, fmt='.')\n",
    "plt.plot(t, x, linewidth=4, alpha=0.25)\n",
    "plt.figure()\n",
    "plt.errorbar(np.mod(t, Pt)/Pt, y, e, fmt='.')\n",
    "N = len(t)"
   ]
  },
  {
   "cell_type": "code",
   "execution_count": null,
   "metadata": {
    "collapsed": true
   },
   "outputs": [],
   "source": [
    "r = 10\n",
    "bin_start = np.linspace(0.0, 1.0, num=r+1)\n",
    "periods = np.arange(0.01, 2.0, step=1e-3)\n",
    "s_aov = np.zeros(shape=(len(periods),))\n",
    "yavg = np.average(y, weights=1.0/e**2)\n",
    "    \n",
    "for i, P in enumerate(periods):\n",
    "    phi = np.mod(t, P)/P\n",
    "    s1 = 0.0\n",
    "    s2 = 0.0\n",
    "    for j in range(r):\n",
    "        idx_bin = np.where(np.logical_and(phi >= bin_start[j], phi < bin_start[j+1]))[0]\n",
    "        if len(idx_bin) == 0.0:\n",
    "            continue\n",
    "        yavgi = np.average(y[idx_bin], weights=1.0/e[idx_bin]**2)\n",
    "        s1 += len(idx_bin)*(yavgi - yavg)**2\n",
    "        s2 += np.sum((y[idx_bin] - yavgi)**2)\n",
    "    s1 = s1/(r-1)\n",
    "    s2 = s2/(N - r)\n",
    "    s_aov[i] = s1/s2\n",
    "    \n",
    "plt.plot(periods, s_aov)\n",
    "ylims = plt.ylim()\n",
    "plt.plot([Pt, Pt], ylims, linewidth=10, alpha=0.25)\n",
    "_ = plt.ylim(ylims)"
   ]
  },
  {
   "cell_type": "code",
   "execution_count": 2,
   "metadata": {
    "collapsed": true
   },
   "outputs": [],
   "source": [
    "from streaming_gmm import lightcurve\n",
    "import logging\n",
    "\n",
    "\n",
    "%matplotlib inline\n",
    "%load_ext autoreload\n",
    "%autoreload 2\n",
    "\n",
    "LC_PATH = 'data/lc_1.3444.614.B.mjd'"
   ]
  },
  {
   "cell_type": "code",
   "execution_count": 3,
   "metadata": {
    "collapsed": true
   },
   "outputs": [],
   "source": [
    "lightcurve_df = lightcurve.read_from_file(LC_PATH, skiprows=3)\n",
    "lightcurve_df = lightcurve.remove_unreliable_observations(lightcurve_df)\n",
    "time, mag, error = lightcurve.unpack_df_in_arrays(lightcurve_df)"
   ]
  },
  {
   "cell_type": "code",
   "execution_count": 4,
   "metadata": {},
   "outputs": [
    {
     "name": "stdout",
     "output_type": "stream",
     "text": [
      "0.937\n"
     ]
    },
    {
     "data": {
      "image/png": "[encoded data removed]",
      "text/plain": [
       "<matplotlib.figure.Figure at 0x7fa96e9ec208>"
      ]
     },
     "metadata": {},
     "output_type": "display_data"
    }
   ],
   "source": [
    "def get_period(time, mag, error):\n",
    "    r = 10\n",
    "    bin_start = np.linspace(0.0, 1.0, num=r+1)\n",
    "    periods = np.arange(0.01, 2.0, step=1e-3)\n",
    "    s_aov = np.zeros(shape=(len(periods),))\n",
    "    yavg = np.average(mag, weights=1.0/error**2)\n",
    "    N = time.shape[0]\n",
    "\n",
    "    for i, P in enumerate(periods):\n",
    "        phi = np.mod(time, P)/P\n",
    "        s1 = 0.0\n",
    "        s2 = 0.0\n",
    "        for j in range(r):\n",
    "            idx_bin = np.where(np.logical_and(phi >= bin_start[j], phi < bin_start[j+1]))[0]\n",
    "            if len(idx_bin) == 0.0:\n",
    "                continue\n",
    "            yavgi = np.average(mag[idx_bin], weights=1.0/error[idx_bin]**2)\n",
    "            s1 += len(idx_bin)*(yavgi - yavg)**2\n",
    "            s2 += np.sum((mag[idx_bin] - yavgi)**2)\n",
    "        s1 = s1/(r-1)\n",
    "        s2 = s2/(N - r)\n",
    "        s_aov[i] = s1/s2\n",
    "    \n",
    "    return periods, s_aov\n",
    "    \n",
    "periods, s_aov = get_period(time, mag, error)\n",
    "Pt = np.argmax(s_aov)\n",
    "plt.plot(periods, s_aov)\n",
    "ylims = plt.ylim()\n",
    "#plt.plot([Pt, Pt], ylims, linewidth=10, alpha=0.25)\n",
    "#_ = plt.ylim(ylims)\n",
    "qq = np.argmax(s_aov)\n",
    "print(periods[qq])"
   ]
  },
  {
   "cell_type": "code",
   "execution_count": 10,
   "metadata": {
    "scrolled": false
   },
   "outputs": [
    {
     "name": "stdout",
     "output_type": "stream",
     "text": [
      "streaming period  0.937\n",
      "normal yavg  -5.94212869428\n"
     ]
    }
   ],
   "source": [
    "from streaming_gmm.streaming_lightcurve import to_chunks\n",
    "from streaming_gmm.streaming_features import StreamingAOV\n",
    "\n",
    "def calculate_s2(time, mag, error, real_period):\n",
    "    s2 = 0\n",
    "    s1 = 0\n",
    "    s2_false = 0\n",
    "    yavg = np.average(mag, weights=1.0/error**2)\n",
    "    print('normal yavg ', yavg)\n",
    "    phi = np.mod(time, real_period)/real_period\n",
    "    for j in range(r):\n",
    "        idx_bin = np.where(np.logical_and(phi >= bin_start[j], phi < bin_start[j+1]))[0]\n",
    "        if len(idx_bin) == 0.0:\n",
    "            continue\n",
    "        yavgi = np.average(mag[idx_bin], weights=1.0/error[idx_bin]**2)\n",
    "        s1 += len(idx_bin)*(yavgi - yavg)**2\n",
    "        s2 += np.sum((mag[idx_bin] - yavgi)**2)\n",
    "        s2_false = np.sum(mag[idx_bin] ** 2) - 2 * yavgi * np.sum(mag[idx_bin]) + len(idx_bin) * yavgi ** 2\n",
    "\n",
    "r = 10\n",
    "bin_start = np.linspace(0.0, 1.0, num=r+1)\n",
    "real_period = 0.937\n",
    "model = StreamingAOV()\n",
    "for time, mag, error in to_chunks(lightcurve_df):\n",
    "    model.update(time, mag, error)\n",
    "#print('streaming mag avg ', model._magnitude_average)\n",
    "#print('streaming yavgi ', model._bin_average_map)\n",
    "#print('streaming mag sq', model._bin_magnitude_sq_sum_map)\n",
    "#print('streaming mag ', model._bin_magnitude_sum_map)\n",
    "#print('streaming samples ', model._bin_acumulated_samples)\n",
    "print('streaming period ', model.get_period())\n",
    "\n",
    "time, mag, error = lightcurve.unpack_df_in_arrays(lightcurve_df)\n",
    "calculate_s2(time, mag, error, real_period)\n",
    "    \n",
    "#print('streaming final', model._s2)"
   ]
  },
  {
   "cell_type": "code",
   "execution_count": null,
   "metadata": {},
   "outputs": [],
   "source": [
    "print(model._s2)"
   ]
  },
  {
   "cell_type": "code",
   "execution_count": null,
   "metadata": {},
   "outputs": [],
   "source": [
    "def f(mag, y):\n",
    "    return np.sum((mag - y) ** 2)\n",
    "\n",
    "def f2(mag, y):\n",
    "    return np.\n",
    "\n",
    "mag1 = np.random.random(size=10) * 10\n",
    "mag2 = np.concatenate([mag1, np.random.random(size=10) * 10])\n",
    "\n",
    "plt.plot(np.arange(-100, 100), np.asarray([f(mag1, y) for y in np.arange(-100, 100)]))\n",
    "#plt.plot(np.arange(-100, 100), np.asarray([f(mag2, y) for y in np.arange(-100, 100)]))"
   ]
  },
  {
   "cell_type": "code",
   "execution_count": null,
   "metadata": {},
   "outputs": [],
   "source": [
    "y0 = 5\n",
    "y1 = 7\n",
    "\n",
    "arr_y1 = np.arange(-100, 100, step=.1)\n",
    "\n",
    "#f0 = np.sum((mag - y0) ** 2)\n",
    "\n",
    "def approx_f(mag, y0, y1):\n",
    "    N = mag.shape[0]\n",
    "    sq_mag = np.sum(mag ** 2)\n",
    "    lin_mag = np.sum(mag)\n",
    "    return sq_mag - 2 * y1 * lin_mag + N * (y1 ** 2)\n",
    "\n",
    "def f(mag, y1):\n",
    "    return np.sum((mag - y1) ** 2)\n",
    "\n",
    "print(approx_f(mag, 0, 3), f(mag, 3))\n",
    "#plt.plot(arr_y1, np.asarray([approx_f(mag, y0, y) for y in arr_y1]))\n",
    "#plt.plot(arr_y1, np.asarray([f(mag, y) for y in arr_y1]))"
   ]
  },
  {
   "cell_type": "code",
   "execution_count": null,
   "metadata": {
    "collapsed": true
   },
   "outputs": [],
   "source": []
  }
 ],
 "metadata": {
  "kernelspec": {
   "display_name": "Python 3",
   "language": "python",
   "name": "python3"
  },
  "language_info": {
   "codemirror_mode": {
    "name": "ipython",
    "version": 3
   },
   "file_extension": ".py",
   "mimetype": "text/x-python",
   "name": "python",
   "nbconvert_exporter": "python",
   "pygments_lexer": "ipython3",
   "version": "3.6.1"
  }
 },
 "nbformat": 4,
 "nbformat_minor": 2
}
