{
 "cells": [
  {
   "cell_type": "code",
   "execution_count": null,
   "metadata": {
    "collapsed": true
   },
   "outputs": [],
   "source": []
  },
  {
   "cell_type": "code",
   "execution_count": 1,
   "metadata": {
    "collapsed": true
   },
   "outputs": [],
   "source": [
    "MACHO_PATH = 'data/macho/'\n",
    "N_FEATURES = 3"
   ]
  },
  {
   "cell_type": "code",
   "execution_count": 2,
   "metadata": {},
   "outputs": [
    {
     "ename": "NameError",
     "evalue": "name 'np' is not defined",
     "output_type": "error",
     "traceback": [
      "\u001b[0;31m---------------------------------------------------------------------------\u001b[0m",
      "\u001b[0;31mNameError\u001b[0m                                 Traceback (most recent call last)",
      "\u001b[0;32m<ipython-input-2-00d8a152ebee>\u001b[0m in \u001b[0;36m<module>\u001b[0;34m()\u001b[0m\n\u001b[1;32m      1\u001b[0m \u001b[0;31m# mean, color, period\u001b[0m\u001b[0;34m\u001b[0m\u001b[0;34m\u001b[0m\u001b[0m\n\u001b[0;32m----> 2\u001b[0;31m \u001b[0mbe_lc\u001b[0m \u001b[0;34m=\u001b[0m \u001b[0mnp\u001b[0m\u001b[0;34m.\u001b[0m\u001b[0mgenfromtxt\u001b[0m\u001b[0;34m(\u001b[0m\u001b[0mMACHO_PATH\u001b[0m \u001b[0;34m+\u001b[0m \u001b[0;34m'Be_lc.csv'\u001b[0m\u001b[0;34m,\u001b[0m \u001b[0mdelimiter\u001b[0m\u001b[0;34m=\u001b[0m\u001b[0;34m','\u001b[0m\u001b[0;34m)\u001b[0m\u001b[0;34m\u001b[0m\u001b[0m\n\u001b[0m\u001b[1;32m      3\u001b[0m \u001b[0mceph_lc\u001b[0m \u001b[0;34m=\u001b[0m \u001b[0mnp\u001b[0m\u001b[0;34m.\u001b[0m\u001b[0mgenfromtxt\u001b[0m\u001b[0;34m(\u001b[0m\u001b[0mMACHO_PATH\u001b[0m \u001b[0;34m+\u001b[0m \u001b[0;34m'CEPH.csv'\u001b[0m\u001b[0;34m,\u001b[0m \u001b[0mdelimiter\u001b[0m\u001b[0;34m=\u001b[0m\u001b[0;34m','\u001b[0m\u001b[0;34m)\u001b[0m\u001b[0;34m\u001b[0m\u001b[0m\n\u001b[1;32m      4\u001b[0m \u001b[0meb_lc\u001b[0m \u001b[0;34m=\u001b[0m \u001b[0mnp\u001b[0m\u001b[0;34m.\u001b[0m\u001b[0mgenfromtxt\u001b[0m\u001b[0;34m(\u001b[0m\u001b[0mMACHO_PATH\u001b[0m \u001b[0;34m+\u001b[0m \u001b[0;34m'EB.csv'\u001b[0m\u001b[0;34m,\u001b[0m \u001b[0mdelimiter\u001b[0m\u001b[0;34m=\u001b[0m\u001b[0;34m','\u001b[0m\u001b[0;34m)\u001b[0m\u001b[0;34m\u001b[0m\u001b[0m\n\u001b[1;32m      5\u001b[0m longperiod_lc = np.genfromtxt(MACHO_PATH + 'longperiod_lc.csv', \n",
      "\u001b[0;31mNameError\u001b[0m: name 'np' is not defined"
     ]
    }
   ],
   "source": [
    "# mean, color, period\n",
    "be_lc = np.genfromtxt(MACHO_PATH + 'Be_lc.csv', delimiter=',')\n",
    "ceph_lc = np.genfromtxt(MACHO_PATH + 'CEPH.csv', delimiter=',')\n",
    "eb_lc = np.genfromtxt(MACHO_PATH + 'EB.csv', delimiter=',')\n",
    "longperiod_lc = np.genfromtxt(MACHO_PATH + 'longperiod_lc.csv', \n",
    "                              delimiter=',')\n",
    "microlensing_lc = np.genfromtxt(MACHO_PATH + 'microlensing_lc.csv', \n",
    "                                delimiter=',')\n",
    "quasar_lc = np.genfromtxt(MACHO_PATH + 'quasar_lc.csv', delimiter=',')\n",
    "rrl_lc = np.genfromtxt(MACHO_PATH + 'RRL.csv', delimiter=',')\n",
    "\n",
    "non_variables_1 = np.genfromtxt(MACHO_PATH + 'non_variables_1.csv', \n",
    "                                delimiter=',')\n",
    "non_variables_2 = np.genfromtxt(MACHO_PATH + 'non_variables_2.csv', \n",
    "                                delimiter=',')\n",
    "non_variables_3 = np.genfromtxt(MACHO_PATH + 'non_variables_3.csv', \n",
    "                                delimiter=',')\n",
    "\n",
    "# join all non variables lc features into one big matrix\n",
    "len_1 = non_variables_1.shape[0]\n",
    "len_2 = non_variables_2.shape[0]\n",
    "len_3 = non_variables_3.shape[0]\n",
    "\n",
    "#non_variables_lc = np.zeros((len_1 + len_2 + len_3, N_FEATURES))\n",
    "#non_variables_lc[0:len_1, :] = non_variables_1\n",
    "#non_variables_lc[len_1:len_1+len_2, :] = non_variables_2\n",
    "#non_variables_lc[len_1+len_2:, :] = non_variables_3\n",
    "\n",
    "def join_lc_features(*args):\n",
    "    total = 0\n",
    "    for i in range(len(args)):\n",
    "        total += args[i].shape[0]\n",
    "    C = np.zeros(total)\n",
    "    X = np.zeros((total, N_FEATURES))\n",
    "    last_idx = 0\n",
    "    for i in range(len(args)):\n",
    "        act_idx = last_idx + args[i].shape[0]\n",
    "        X[last_idx:act_idx, :] = args[i][:, 0:3]\n",
    "        C[last_idx:act_idx] = i\n",
    "        last_idx = act_idx\n",
    "    return X, C\n",
    "\n",
    "# Now X contain the features, and C contains the class labels, where each class label is the position in the arg\n",
    "# list when join_lc_features was called.\n",
    "#X, C = join_lc_features(be_lc, ceph_lc, eb_lc, longperiod_lc, microlensing_lc, quasar_lc, rrl_lc, non_variables_lc)\n",
    "X, C = join_lc_features(be_lc, ceph_lc, eb_lc, longperiod_lc, microlensing_lc, quasar_lc, rrl_lc)\n",
    "\n",
    "# normalize the data\n",
    "X = (X - X.mean(axis=0)) / X.std(0)"
   ]
  },
  {
   "cell_type": "markdown",
   "metadata": {},
   "source": [
    "## Training and testing data\n",
    "\n",
    "In the cell below, we separate our matrix $X$ into training and testing datasets. We choose randomly $10\\%$ of the total number of lightcurves as our testing dataset."
   ]
  },
  {
   "cell_type": "code",
   "execution_count": 3,
   "metadata": {},
   "outputs": [
    {
     "ename": "NameError",
     "evalue": "name 'C' is not defined",
     "output_type": "error",
     "traceback": [
      "\u001b[0;31m---------------------------------------------------------------------------\u001b[0m",
      "\u001b[0;31mNameError\u001b[0m                                 Traceback (most recent call last)",
      "\u001b[0;32m<ipython-input-3-7ff4598e132f>\u001b[0m in \u001b[0;36m<module>\u001b[0;34m()\u001b[0m\n\u001b[1;32m      1\u001b[0m \u001b[0mTRAINING_FRACTION\u001b[0m \u001b[0;34m=\u001b[0m \u001b[0;36m0.9\u001b[0m\u001b[0;34m\u001b[0m\u001b[0m\n\u001b[1;32m      2\u001b[0m \u001b[0;34m\u001b[0m\u001b[0m\n\u001b[0;32m----> 3\u001b[0;31m \u001b[0mN\u001b[0m \u001b[0;34m=\u001b[0m \u001b[0mC\u001b[0m\u001b[0;34m.\u001b[0m\u001b[0mshape\u001b[0m\u001b[0;34m[\u001b[0m\u001b[0;36m0\u001b[0m\u001b[0;34m]\u001b[0m\u001b[0;34m\u001b[0m\u001b[0m\n\u001b[0m\u001b[1;32m      4\u001b[0m \u001b[0mN_TRAINING\u001b[0m \u001b[0;34m=\u001b[0m \u001b[0mint\u001b[0m\u001b[0;34m(\u001b[0m\u001b[0mTRAINING_FRACTION\u001b[0m \u001b[0;34m*\u001b[0m \u001b[0mN\u001b[0m\u001b[0;34m)\u001b[0m\u001b[0;34m\u001b[0m\u001b[0m\n\u001b[1;32m      5\u001b[0m \u001b[0mN_TESTING\u001b[0m \u001b[0;34m=\u001b[0m \u001b[0mN\u001b[0m \u001b[0;34m-\u001b[0m \u001b[0mN_TRAINING\u001b[0m\u001b[0;34m\u001b[0m\u001b[0m\n",
      "\u001b[0;31mNameError\u001b[0m: name 'C' is not defined"
     ]
    }
   ],
   "source": [
    "TRAINING_FRACTION = 0.9\n",
    "\n",
    "N = C.shape[0]\n",
    "N_TRAINING = int(TRAINING_FRACTION * N)\n",
    "N_TESTING = N - N_TRAINING\n",
    "\n",
    "shuffle_idxs = np.arange(N)\n",
    "np.random.shuffle(shuffle_idxs)\n",
    "idx_training = shuffle_idxs[:N_TRAINING]\n",
    "idx_testing = shuffle_idxs[N_TRAINING:]\n",
    "\n",
    "X_training = X[idx_training, :]\n",
    "X_testing = X[idx_testing, :]\n",
    "C_training = C[idx_training]\n",
    "C_testing = C[idx_testing]"
   ]
  },
  {
   "cell_type": "code",
   "execution_count": 4,
   "metadata": {},
   "outputs": [
    {
     "ename": "NameError",
     "evalue": "name 'N_TRAINING' is not defined",
     "output_type": "error",
     "traceback": [
      "\u001b[0;31m---------------------------------------------------------------------------\u001b[0m",
      "\u001b[0;31mNameError\u001b[0m                                 Traceback (most recent call last)",
      "\u001b[0;32m<ipython-input-4-d88f1cca29da>\u001b[0m in \u001b[0;36m<module>\u001b[0;34m()\u001b[0m\n\u001b[0;32m----> 1\u001b[0;31m \u001b[0mprint\u001b[0m\u001b[0;34m(\u001b[0m\u001b[0;34m\"Number training:\"\u001b[0m\u001b[0;34m,\u001b[0m \u001b[0mN_TRAINING\u001b[0m\u001b[0;34m)\u001b[0m\u001b[0;34m\u001b[0m\u001b[0m\n\u001b[0m\u001b[1;32m      2\u001b[0m \u001b[0mprint\u001b[0m\u001b[0;34m(\u001b[0m\u001b[0;34m\"Number testing:\"\u001b[0m\u001b[0;34m,\u001b[0m \u001b[0mN_TESTING\u001b[0m\u001b[0;34m)\u001b[0m\u001b[0;34m\u001b[0m\u001b[0m\n",
      "\u001b[0;31mNameError\u001b[0m: name 'N_TRAINING' is not defined"
     ]
    }
   ],
   "source": [
    "print(\"Number training:\", N_TRAINING)\n",
    "print(\"Number testing:\", N_TESTING)"
   ]
  },
  {
   "cell_type": "code",
   "execution_count": 5,
   "metadata": {
    "collapsed": true
   },
   "outputs": [],
   "source": [
    "M = 7\n",
    "K = 2\n",
    "N_FEATURES = 3"
   ]
  },
  {
   "cell_type": "code",
   "execution_count": 6,
   "metadata": {},
   "outputs": [
    {
     "ename": "NameError",
     "evalue": "name 'np' is not defined",
     "output_type": "error",
     "traceback": [
      "\u001b[0;31m---------------------------------------------------------------------------\u001b[0m",
      "\u001b[0;31mNameError\u001b[0m                                 Traceback (most recent call last)",
      "\u001b[0;32m<ipython-input-6-3f277d1df1b4>\u001b[0m in \u001b[0;36m<module>\u001b[0;34m()\u001b[0m\n\u001b[1;32m      4\u001b[0m \u001b[0;34m\u001b[0m\u001b[0m\n\u001b[1;32m      5\u001b[0m \u001b[0;32mfor\u001b[0m \u001b[0mm\u001b[0m \u001b[0;32min\u001b[0m \u001b[0mrange\u001b[0m\u001b[0;34m(\u001b[0m\u001b[0mM\u001b[0m\u001b[0;34m)\u001b[0m\u001b[0;34m:\u001b[0m\u001b[0;34m\u001b[0m\u001b[0m\n\u001b[0;32m----> 6\u001b[0;31m     \u001b[0mindex\u001b[0m \u001b[0;34m=\u001b[0m \u001b[0mnp\u001b[0m\u001b[0;34m.\u001b[0m\u001b[0mwhere\u001b[0m\u001b[0;34m(\u001b[0m\u001b[0mC_training\u001b[0m \u001b[0;34m==\u001b[0m \u001b[0mm\u001b[0m\u001b[0;34m)\u001b[0m\u001b[0;34m\u001b[0m\u001b[0m\n\u001b[0m\u001b[1;32m      7\u001b[0m     \u001b[0mmodels\u001b[0m\u001b[0;34m[\u001b[0m\u001b[0mm\u001b[0m\u001b[0;34m]\u001b[0m\u001b[0;34m.\u001b[0m\u001b[0mfit\u001b[0m\u001b[0;34m(\u001b[0m\u001b[0mnp\u001b[0m\u001b[0;34m.\u001b[0m\u001b[0msqueeze\u001b[0m\u001b[0;34m(\u001b[0m\u001b[0mX_training\u001b[0m\u001b[0;34m[\u001b[0m\u001b[0mindex\u001b[0m\u001b[0;34m,\u001b[0m \u001b[0;34m:\u001b[0m\u001b[0;34m]\u001b[0m\u001b[0;34m)\u001b[0m\u001b[0;34m)\u001b[0m\u001b[0;34m\u001b[0m\u001b[0m\n",
      "\u001b[0;31mNameError\u001b[0m: name 'np' is not defined"
     ]
    }
   ],
   "source": [
    "from streaming_gmm.streaming_variational_gmm import VariationalGMM\n",
    "\n",
    "models = [VariationalGMM(K, N_FEATURES) for m in range(M)]\n",
    "\n",
    "for m in range(M):\n",
    "    index = np.where(C_training == m)\n",
    "    models[m].fit(np.squeeze(X_training[index, :]))"
   ]
  },
  {
   "cell_type": "code",
   "execution_count": 7,
   "metadata": {},
   "outputs": [
    {
     "ename": "NameError",
     "evalue": "name 'np' is not defined",
     "output_type": "error",
     "traceback": [
      "\u001b[0;31m---------------------------------------------------------------------------\u001b[0m",
      "\u001b[0;31mNameError\u001b[0m                                 Traceback (most recent call last)",
      "\u001b[0;32m<ipython-input-7-3b784d43e967>\u001b[0m in \u001b[0;36m<module>\u001b[0;34m()\u001b[0m\n\u001b[1;32m     16\u001b[0m     \u001b[0;32mreturn\u001b[0m \u001b[0mnp\u001b[0m\u001b[0;34m.\u001b[0m\u001b[0msum\u001b[0m\u001b[0;34m(\u001b[0m\u001b[0mestimated_class\u001b[0m \u001b[0;34m==\u001b[0m \u001b[0mclasses\u001b[0m\u001b[0;34m.\u001b[0m\u001b[0mastype\u001b[0m\u001b[0;34m(\u001b[0m\u001b[0mint\u001b[0m\u001b[0;34m)\u001b[0m\u001b[0;34m)\u001b[0m \u001b[0;34m/\u001b[0m \u001b[0mclasses\u001b[0m\u001b[0;34m.\u001b[0m\u001b[0mshape\u001b[0m\u001b[0;34m[\u001b[0m\u001b[0;36m0\u001b[0m\u001b[0;34m]\u001b[0m\u001b[0;34m\u001b[0m\u001b[0m\n\u001b[1;32m     17\u001b[0m \u001b[0;34m\u001b[0m\u001b[0m\n\u001b[0;32m---> 18\u001b[0;31m \u001b[0mprint\u001b[0m\u001b[0;34m(\u001b[0m\u001b[0mnp\u001b[0m\u001b[0;34m.\u001b[0m\u001b[0mmin\u001b[0m\u001b[0;34m(\u001b[0m\u001b[0mC_training\u001b[0m\u001b[0;34m)\u001b[0m\u001b[0;34m)\u001b[0m\u001b[0;34m\u001b[0m\u001b[0m\n\u001b[0m\u001b[1;32m     19\u001b[0m \u001b[0mprint\u001b[0m\u001b[0;34m(\u001b[0m\u001b[0;34m\"Training accuracy:\"\u001b[0m\u001b[0;34m,\u001b[0m \u001b[0mcalculate_accuracy\u001b[0m\u001b[0;34m(\u001b[0m\u001b[0mpredict\u001b[0m\u001b[0;34m(\u001b[0m\u001b[0mX_training\u001b[0m\u001b[0;34m)\u001b[0m\u001b[0;34m,\u001b[0m \u001b[0mC_training\u001b[0m\u001b[0;34m)\u001b[0m\u001b[0;34m)\u001b[0m\u001b[0;34m\u001b[0m\u001b[0m\n\u001b[1;32m     20\u001b[0m \u001b[0mprint\u001b[0m\u001b[0;34m(\u001b[0m\u001b[0;34m\"Testing accuracy:\"\u001b[0m\u001b[0;34m,\u001b[0m \u001b[0mcalculate_accuracy\u001b[0m\u001b[0;34m(\u001b[0m\u001b[0mpredict\u001b[0m\u001b[0;34m(\u001b[0m\u001b[0mX_testing\u001b[0m\u001b[0;34m)\u001b[0m\u001b[0;34m,\u001b[0m \u001b[0mC_testing\u001b[0m\u001b[0;34m)\u001b[0m\u001b[0;34m)\u001b[0m\u001b[0;34m\u001b[0m\u001b[0m\n",
      "\u001b[0;31mNameError\u001b[0m: name 'np' is not defined"
     ]
    }
   ],
   "source": [
    "def predict(testing):\n",
    "    n_testing = testing.shape[0]\n",
    "    estimated_classes = np.zeros(n_testing).astype(int)\n",
    "    for i in range(n_testing):\n",
    "        estimated_i = 0\n",
    "        max_p = -1e7\n",
    "        for m in range(M):\n",
    "            p = models[m].predict(testing[i])\n",
    "            if p > max_p:\n",
    "                estimated_i = m\n",
    "                max_p = p\n",
    "        estimated_classes[i] = estimated_i\n",
    "    return estimated_classes\n",
    "\n",
    "def calculate_accuracy(estimated_class, classes):\n",
    "    return np.sum(estimated_class == classes.astype(int)) / classes.shape[0]\n",
    "\n",
    "print(np.min(C_training))\n",
    "print(\"Training accuracy:\", calculate_accuracy(predict(X_training), C_training))\n",
    "print(\"Testing accuracy:\", calculate_accuracy(predict(X_testing), C_testing))\n",
    "#print(X_testing.shape)"
   ]
  },
  {
   "cell_type": "code",
   "execution_count": null,
   "metadata": {
    "collapsed": true
   },
   "outputs": [],
   "source": []
  }
 ],
 "metadata": {
  "kernelspec": {
   "display_name": "streaming-bayesian-env",
   "language": "python",
   "name": "streaming-bayesian-env"
  },
  "language_info": {
   "codemirror_mode": {
    "name": "ipython",
    "version": 3
   },
   "file_extension": ".py",
   "mimetype": "text/x-python",
   "name": "python",
   "nbconvert_exporter": "python",
   "pygments_lexer": "ipython3",
   "version": "3.6.1"
  }
 },
 "nbformat": 4,
 "nbformat_minor": 2
}
